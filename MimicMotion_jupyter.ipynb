{
  "cells": [
    {
      "cell_type": "markdown",
      "metadata": {
        "id": "view-in-github"
      },
      "source": [
        "[![Open In Colab](https://colab.research.google.com/assets/colab-badge.svg)](https://colab.research.google.com/github/camenduru/MimicMotion-jupyter/blob/main/MimicMotion_jupyter.ipynb)"
      ]
    },
    {
      "cell_type": "code",
      "execution_count": null,
      "metadata": {
        "id": "VjYy0F2gZIPR"
      },
      "outputs": [],
      "source": [
        "%cd /content\n",
        "!git clone -b dev https://github.com/camenduru/MimicMotion\n",
        "%cd /content/MimicMotion\n",
        "\n",
        "!pip install omegaconf einops diffusers==0.27.0 transformers==4.32.1 decord==0.6.0 matplotlib opencv-python onnx==1.16.1 onnxruntime==1.18.1 accelerate\n",
        "\n",
        "!git clone https://huggingface.co/vdo/stable-video-diffusion-img2vid-xt-1-1 /content/MimicMotion/models/SVD/stable-video-diffusion-img2vid-xt-1-1\n",
        "!git clone https://huggingface.co/yzd-v/DWPose /content/MimicMotion/models/DWPose\n",
        "\n",
        "!apt -y install -qq aria2\n",
        "!aria2c --console-log-level=error -c -x 16 -s 16 -k 1M https://huggingface.co/ixaac/MimicMotion/resolve/main/MimicMotion.pth -d /content/MimicMotion/models -o MimicMotion.pth\n",
        "\n",
        "!python inference.py --inference_config configs/test.yaml"
      ]
    }
  ],
  "metadata": {
    "accelerator": "GPU",
    "colab": {
      "gpuType": "T4",
      "provenance": []
    },
    "kernelspec": {
      "display_name": "Python 3",
      "name": "python3"
    },
    "language_info": {
      "name": "python"
    }
  },
  "nbformat": 4,
  "nbformat_minor": 0
}
